{
 "cells": [
  {
   "cell_type": "code",
   "execution_count": null,
   "metadata": {},
   "outputs": [],
   "source": [
    "from multi_contact_planning import planning\n",
    "from multi_contact_planning import validity_check\n",
    "from multi_contact_planning import visual_tools\n",
    "import numpy as np\n",
    "import scipy.linalg as la\n",
    "import yaml\n",
    "import moveit_msgs.msg \n",
    "import rospy\n",
    "import StringIO\n",
    "from xbot_interface import xbot_interface as xbot\n",
    "from xbot_interface import config_options as co\n",
    "from cartesian_interface.pyci_all import *\n",
    "import cartesian_interface.roscpp_utils as roscpp\n",
    "\n",
    "# We need to initialize roscpp (underlying code is in C++!)\n",
    "cpp_argv = []\n",
    "if not roscpp.init('teleop_example', cpp_argv):\n",
    "    print 'Unable to initialize roscpp node!'"
   ]
  },
  {
   "cell_type": "code",
   "execution_count": null,
   "metadata": {},
   "outputs": [],
   "source": [
    "# get robot description from param server\n",
    "urdf = rospy.get_param('robot_description')\n",
    "srdf = rospy.get_param('robot_description_semantic')\n",
    "\n",
    "# make xbot model\n",
    "opt = co.ConfigOptions()\n",
    "opt.set_urdf(urdf)\n",
    "opt.set_srdf(srdf)\n",
    "opt.generate_jidmap()\n",
    "opt.set_bool_parameter('is_model_floating_base', False)\n",
    "opt.set_string_parameter('model_type', 'RBDL')\n",
    "\n",
    "model = xbot.ModelInterface(opt)\n",
    "\n",
    "# define joint range\n",
    "qmin = np.full(model.getJointNum(), -2.0)\n",
    "qmax = -qmin\n",
    "yaml_options = '' # leave default options\n",
    "\n",
    "# create planner\n",
    "planner = planning.OmplPlanner(qmin, qmax, yaml_options)"
   ]
  },
  {
   "cell_type": "code",
   "execution_count": null,
   "metadata": {},
   "outputs": [],
   "source": [
    "# define planning parameters\n",
    "start = [0, 1, 1, 0, 0]\n",
    "goal = [-1, -1, -1, 1, 1]\n",
    "threshold = 0.0\n",
    "\n",
    "# make planning scene\n",
    "ps = validity_check.PlanningSceneWrapper(model)\n",
    "ps.startMonitor() # listen to topics / publish planning scene for visualization\n",
    "ps.startGetPlanningSceneServer()  # advertise get_planning_scene srv for rviz\n",
    "\n",
    "# add a box and two spheres to the planning scene\n",
    "ps.addBox('box', [0.1, 0.8, 0.1], Affine3(pos=[0.3, 0.2, 0.5]))\n",
    "ps.addSphere('sphere_1', 0.3, Affine3(pos=[0.0, 0.4, 0.7]))\n",
    "ps.addSphere('sphere_2', 0.2, Affine3(pos=[0.2, -0.4, 0.5]))"
   ]
  },
  {
   "cell_type": "code",
   "execution_count": null,
   "metadata": {},
   "outputs": [],
   "source": [
    "# our validity checker checks for collisions\n",
    "def validity_checker(q):\n",
    "    model.setJointPosition(q)\n",
    "    model.update()\n",
    "    ps.update()\n",
    "    return not ps.checkCollisions()"
   ]
  },
  {
   "cell_type": "code",
   "execution_count": null,
   "metadata": {},
   "outputs": [],
   "source": [
    "# Check start state is valid\n",
    "print 'Start state valid: {}'.format(validity_checker(start))\n",
    "print ps.getCollidingLinks()\n",
    "\n",
    "# Publish it to a marker array\n",
    "start_viz = visual_tools.RobotViz(model, '/teleop_example/start', color=[0, 0, 1, 0.5])\n",
    "start_viz.publishMarkers(ps.getCollidingLinks())"
   ]
  },
  {
   "cell_type": "code",
   "execution_count": null,
   "metadata": {},
   "outputs": [],
   "source": [
    "# Same for goal state...\n",
    "print 'Goal state valid: {}'.format(validity_checker(goal))\n",
    "print ps.getCollidingLinks()\n",
    "goal_viz = visual_tools.RobotViz(model, '/teleop_example/goal', color=[0, 1, 0, 0.5])\n",
    "goal_viz.publishMarkers(ps.getCollidingLinks())"
   ]
  },
  {
   "cell_type": "code",
   "execution_count": null,
   "metadata": {},
   "outputs": [],
   "source": [
    "# Execute planner\n",
    "planner_type = 'RRTstar'\n",
    "timeout = 3.0\n",
    "\n",
    "planner.setStartAndGoalStates(start, goal, threshold)\n",
    "planner.setStateValidityPredicate(validity_checker)\n",
    "success = planner.solve(timeout, planner_type)\n",
    "\n",
    "print 'Planner output : {}'.format(success)\n",
    "\n",
    "solution = np.array(planner.getSolutionPath()).transpose()"
   ]
  },
  {
   "cell_type": "code",
   "execution_count": null,
   "metadata": {},
   "outputs": [],
   "source": [
    "# Plot solution\n",
    "%matplotlib inline\n",
    "import matplotlib.pyplot as plt"
   ]
  },
  {
   "cell_type": "code",
   "execution_count": null,
   "metadata": {},
   "outputs": [],
   "source": [
    "plt.rcParams.update({'figure.figsize': [14, 8],\n",
    "                     'font.size': 16})\n",
    "\n",
    "plt.plot(np.full_like(start, 0), start, '.', markersize=16)\n",
    "plt.plot(np.full_like(goal, solution.shape[1]-1), goal, '.', markersize=16)\n",
    "plt.plot(solution.transpose(), '-')\n",
    "plt.grid()\n",
    "plt.xlabel('Sample')\n",
    "plt.ylabel('Joint position [rad]')\n",
    "plt.legend()"
   ]
  },
  {
   "cell_type": "code",
   "execution_count": null,
   "metadata": {},
   "outputs": [],
   "source": [
    "# Play solution a number of times..\n",
    "viz = visual_tools.RobotViz(model, \n",
    "                            '/teleop_example/solution',\n",
    "                           color=[0.5, 0, 0.5, 0.5])\n",
    "\n",
    "ntimes = 10\n",
    "duration = 3.0\n",
    "dt = duration/solution.shape[1]\n",
    "\n",
    "for _ in range(ntimes):\n",
    "    \n",
    "    for i in range(solution.shape[1]):\n",
    "        \n",
    "        q = solution[:, i]\n",
    "        model.setJointPosition(q)\n",
    "        model.update()\n",
    "        viz.publishMarkers()\n",
    "        rospy.sleep(dt)"
   ]
  },
  {
   "cell_type": "code",
   "execution_count": null,
   "metadata": {},
   "outputs": [],
   "source": []
  },
  {
   "cell_type": "code",
   "execution_count": null,
   "metadata": {},
   "outputs": [],
   "source": []
  }
 ],
 "metadata": {
  "kernelspec": {
   "display_name": "Python 2",
   "language": "python",
   "name": "python2"
  },
  "language_info": {
   "codemirror_mode": {
    "name": "ipython",
    "version": 2
   },
   "file_extension": ".py",
   "mimetype": "text/x-python",
   "name": "python",
   "nbconvert_exporter": "python",
   "pygments_lexer": "ipython2",
   "version": "2.7.12"
  }
 },
 "nbformat": 4,
 "nbformat_minor": 2
}
